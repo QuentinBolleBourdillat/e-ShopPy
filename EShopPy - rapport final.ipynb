{
 "cells": [
  {
   "cell_type": "markdown",
   "metadata": {
    "tags": []
   },
   "source": [
    "# E-ShopPy - SUIVI DES UTILISATEURS D'UN SITE DE E-COMMERCE\n",
    "\n",
    "## PRESENTATION\n",
    "\n",
    "<br>\n",
    "\n",
    "L'objectif de notre étude est de réaliser une <b>analyse des données récoltées par un site réel de e-commerce</b>, disponible sur le site Kaggle (https://www.kaggle.com/retailrocket/ecommerce-dataset)\n",
    "\n",
    "Le jeu de données est constitué de trois fichiers.\n",
    "- Le fichier principal <em>events.csv</em>  contient <u>2756101 lignes et 5 variables</u>: <em>Heure Unix (timestamp), Identifiant de l'utilisateur, Catégorie de l'évènement, Identifiant de l'objet</em> et <em>Identifiant de la transaction</em>.\n",
    "\n",
    "|    |     timestamp |   visitorid | event   |   itemid |   transactionid |\n",
    "|---:|--------------:|------------:|:--------|---------:|----------------:|\n",
    "|  0 | 1433221332117 |      257597 | view    |   355908 |             nan |\n",
    "|  1 | 1433224214164 |      992329 | view    |   248676 |             nan |\n",
    "|  2 | 1433221999827 |      111016 | view    |   318965 |             nan |\n",
    "|  3 | 1433221955914 |      483717 | view    |   253185 |             nan |\n",
    "|  4 | 1433221337106 |      951259 | view    |   367447 |             nan |\n",
    "|  5 | 1433224086234 |      972639 | view    |    22556 |             nan |\n",
    "|  6 | 1433221923240 |      810725 | view    |   443030 |             nan |\n",
    "|  7 | 1433223291897 |      794181 | view    |   439202 |             nan |\n",
    "|  8 | 1433220899221 |      824915 | view    |   428805 |             nan |\n",
    "|  9 | 1433221204592 |      339335 | view    |    82389 |             nan |\n",
    "\n",
    "\n",
    "Les données ont été récoltées du <b>3 mai 2015 au 18 septembre 2015</b> et nous représente un évènement (\"Vue\", \"Mise au panier\", \"Transaction\") réalisé par un utilisateur sur un objet. Il y a 1407580 utilisateurs uniques et 235061 objets uniques.\n",
    "\n",
    "Les seules valeurs manquantes du fichier concerne la colonne <em>transactionid</em>, ce qui s'explique par le fait que seules les transactions seront identifiées par un valeur.\n",
    "\n",
    "- Deux  fichiers <em>item_properties_part1.csv</em> et <em>item_properties_part2.csv</em> rassemblent <u>4 variables et respectivement 10999999 et 9254926 lignes</u>. Il s'agit d'un découpage d'un fichier unique volumineux.\n",
    "\n",
    "Les variables sont <em>Heure Unix (timestamp), Identifiant de l'objet, Catégorie de l'évènement, Propriété de l'objet</em> et <em>Valeur de la propriété</em>. La plupart des propriétés ont été hachées, à l'exception des propriétés <em>categoryid</em> (Identifiant de la catégorie de l'objet) et <em>available</em> (Disponibilité de l'objet).\n",
    "\n",
    "|    |     timestamp |   itemid | property   | value                           |\n",
    "|---:|--------------:|---------:|:-----------|:--------------------------------|\n",
    "|  0 | 1435460400000 |   460429 | categoryid | 1338                            |\n",
    "|  1 | 1441508400000 |   206783 | 888        | 1116713 960601 n277.200         |\n",
    "|  2 | 1439089200000 |   395014 | 400        | n552.000 639502 n720.000 424566 |\n",
    "|  3 | 1431226800000 |    59481 | 790        | n15360.000                      |\n",
    "|  4 | 1431831600000 |   156781 | 917        | 828513                          |\n",
    "\n",
    "- Le dernier fichier <em>category_tree.csv</em> contient <u>1669 lignes et 2 variables</u>: <em>Identifiant de la catégorie enfant</em> et <em>Identifiant de la catégorie parent</em>. Il s'agit d'une représentation arborescente des catégories en sections, sous-sections, etc.\n",
    "\n",
    "\n",
    "|    |   categoryid |   parentid |\n",
    "|---:|-------------:|-----------:|\n",
    "|  0 |         1016 |        213 |\n",
    "|  1 |          809 |        169 |\n",
    "|  2 |          570 |          9 |\n",
    "|  3 |         1691 |        885 |\n",
    "|  4 |          536 |       1691 |\n",
    "\n",
    "Le prétraitement des données a été réalisé en plusieurs étapes à savoir:\n",
    "\n",
    " - Pour le fichier <em>events</em>, les 460 lignes redondantes ont été supprimées par drop_duplicates(keep=\"first\").\n",
    " \n",
    " - L’heure, le jour de la semaine, le jour de l'année et le mois ont été extrait de la variable <em>timestamp</em> du fichier <em>events</em>, afin d'étudier la variation des évènements selon ces catégories temporelles.\n",
    " \n",
    " - Les fichiers ont été triées selon la variable <em>timestamp</em> par sort_values(by='timestamp', ascending=True)\n",
    " \n",
    " - Pour les deux  fichiers <em>item_properties_part1</em> et <em>item_properties_part2</em>, seules les lignes contenant la propriété <em>categoryid</em> ont été récupérées. Les deux fichiers ont ensuite été réunis. La sélection a permis de réduire drastiquement la taille des fichiers, le fichier final ne contient plus que 444364 lignes. La variable <em>property</em>, devenue inutile, a été supprimé et la variable <em>value</em> a été renommée <em>categoryid</em>.\n",
    " \n",
    " - Enfin, tous les fichiers ont été réunis. Les fichiers <em>events</em> et <em>item_properties</em> ont été réunis en faisant la jointure sur <em>itemid</em>. Le fichier résultant a été rassemblé avec <em>category_tree</em> en faisant la jointure sur <em>categoryid</em>.\n"
   ]
  },
  {
   "cell_type": "markdown",
   "metadata": {},
   "source": [
    "# DATA VISUALISATION"
   ]
  },
  {
   "cell_type": "markdown",
   "metadata": {},
   "source": [
    "### Distribution des évènements selon leur type"
   ]
  },
  {
   "cell_type": "markdown",
   "metadata": {},
   "source": [
    "<img src = 'type_event.png' style = 'height:500px'>"
   ]
  },
  {
   "cell_type": "markdown",
   "metadata": {},
   "source": [
    "Cette première visualisation nous permet de constater que les évènements sont constitués quasi-exclusivement de \"Vue\" (96.7%). Les autres types \"Mise au panier\" et \"Transaction\" suivent avec pour fréquences respectives 2.5% et 0.8%. \n",
    "\n",
    "Le jeu de données est fondamentalement déséquilibré. Un utilisateur qui regarde un article ne s'engage pas nécessairement dessus. Ce constat invite à s'intéresser aux taux de conversion. Une problématique de modélisation serait de cibler le ratio transaction/vue par utilisateur ou par objet."
   ]
  },
  {
   "cell_type": "markdown",
   "metadata": {},
   "source": [
    "### Nombre de vues avant achats"
   ]
  },
  {
   "cell_type": "markdown",
   "metadata": {},
   "source": [
    "<img src = 'nb_view_before_purchase.png' style = 'height:500px'>"
   ]
  },
  {
   "cell_type": "markdown",
   "metadata": {},
   "source": [
    "Lorsqu'il y a achat, cette visualiation montre que l'utilisateur n'avait regardé l'objet qu'une seule fois dans la majorité des cas. Dans 4 cas sur 5, il a suffit d'au plus deux vues.\n",
    "\n",
    "On peut donc émettre l'hypothèse que plus un objet sera regardé par un utilisateur, moins cet utilisateur sera prêt à convertir sa curiosité en achat. Dans une problématique de classification, le nombre de vue semble être un feature pertinent, d'autant plus que la donnée est facile à recueillir."
   ]
  },
  {
   "cell_type": "markdown",
   "metadata": {},
   "source": [
    "### Temps entre deux évènements"
   ]
  },
  {
   "cell_type": "markdown",
   "metadata": {},
   "source": [
    "<img src = 'time_between_event.png' style = 'height:500px'>"
   ]
  },
  {
   "cell_type": "markdown",
   "metadata": {},
   "source": [
    "A un couple d'utilisateur/objet donné, sachant qu'il y a eu achat, on peut visualiser le temps mis entre la première vue et la première mise au panier, ainsi que le temps mis entre la première mise au panier et la transaction.\n",
    "\n",
    "Les courbes sont tracé en fonction des valeurs des centiles. Ainsi, dans 60% des cas, il a fallu moins de 200 secondes entre la première vue et la mise au panier.\n",
    "\n",
    "Dans 80% des situations, les conversions se font en moins de 1000 secondes, soit 17 min environ. Les temps sont bien plus longs pour les 20% restants.\n",
    "\n",
    "Dans une problématique de classification, le <b>temps peak-to-peak</b> (durée passée sur un objet) semble être un feature pertinent pour cibler l'achat, d'autant plus que la donnée est facile à recueillir. Plus le temps peak-to-peak sera long, moins l'achat sera susceptible d'arriver. Dans le cas d'une vue unique sans action ultérieur, nous considérerons que le temps peak-to-peak sera considéré comme nul."
   ]
  },
  {
   "cell_type": "markdown",
   "metadata": {},
   "source": [
    "### Nombre de produits par panier"
   ]
  },
  {
   "cell_type": "markdown",
   "metadata": {},
   "source": [
    "<img src = 'nb_item_basket.png' style = 'height:500px'>"
   ]
  },
  {
   "cell_type": "markdown",
   "metadata": {},
   "source": [
    "La grande majorité des paniers ne sont constitués que d'un objet. <br>\n",
    "Pour le reste, il est possible de compter les objets acheté ensemble. On peut pousser l'analyse pour chercher des règles d'association."
   ]
  },
  {
   "cell_type": "markdown",
   "metadata": {},
   "source": [
    "### Visualisation du nombre d'achats selon une variation temporelle"
   ]
  },
  {
   "cell_type": "markdown",
   "metadata": {},
   "source": [
    "Concernant les graphiques suivants, l'axe des ordonnées donne un indice du nombre d'achats effectués sur une période temporelle.  <br> On s'intéresse ici davantage à la forme de la distribution qu'aux quantités réelles échangées."
   ]
  },
  {
   "cell_type": "markdown",
   "metadata": {},
   "source": [
    "<img src = 'transaction_hour.png' style = 'height:500px'>"
   ]
  },
  {
   "cell_type": "markdown",
   "metadata": {},
   "source": [
    "Le fuseau horaire GMT est la référence pour ce graphique. <br>\n",
    "\n",
    "Ce graphique appuie l'idée d'une saisonnalité journalière. On constate que la plupart des achats ont lieu entre 15h et 23h, avec un pic à 17h. <br>\n",
    "D'autres analyses marketing ont noté que la concentration des achats sur les sites d'e-commerce avait lieu en soirée, au moment où les magasins sont fermés  et où les consommateurs sont dans leur domicile."
   ]
  },
  {
   "cell_type": "markdown",
   "metadata": {},
   "source": [
    "<img src = 'transaction_weekday.png' style = 'height:500px'>"
   ]
  },
  {
   "cell_type": "markdown",
   "metadata": {},
   "source": [
    "Ce graphique appuie l'idée d'une saisonnalité hebdomadaire. Les achats sont concentrés en semaine, avec une baisse dès Vendredi et peu d'achats le week-end.  <br>\n",
    "Ce constat rejoint d'autres analyses statistiques de marketing. Le week-end est consacré au loisir, ce qui fait baisser les ventes."
   ]
  },
  {
   "cell_type": "markdown",
   "metadata": {},
   "source": [
    "<img src = 'transaction_day.png' style = 'height:500px'>"
   ]
  },
  {
   "cell_type": "markdown",
   "metadata": {},
   "source": [
    "On retrouve la saisonnalité hebdomadaire. Il est possible de constater une saisonnalité mensuelle. <br>\n",
    "Les achats décroissent lentement au cours du mois. Le pic arrive le 7 tandis que le jour le moins consommateur est le 21 (le jour 31 doit être écarté). Ce phénomène est relié au jour de paie qui arrive en fin de mois."
   ]
  },
  {
   "cell_type": "markdown",
   "metadata": {},
   "source": [
    "<img src = 'transaction_month.png' style = 'height:500px'>"
   ]
  },
  {
   "cell_type": "markdown",
   "metadata": {},
   "source": [
    "On constate que les achats sont majoritaires en Juillet et qu'il y a un décrochage en Septembre. Cette visualisation est étonnante puisque le mois de Septembre est connu pour être une période de forte dépense et que la période estivale est au contraire une période de creux.\n",
    "\n",
    "La fenêtre de recueil des données étant courte, cette analyse reste limitée."
   ]
  },
  {
   "cell_type": "markdown",
   "metadata": {},
   "source": [
    "### Etude des relations entre feature à journée fixée"
   ]
  },
  {
   "cell_type": "markdown",
   "metadata": {},
   "source": [
    "En regroupant les évènements par journée, il est possible d'étudier les relations entre le nombre d'événements par type ainsi que les taux de conversion."
   ]
  },
  {
   "cell_type": "markdown",
   "metadata": {},
   "source": [
    "<img src = 'event_day_pairplot.png' style = 'height:500px'>"
   ]
  },
  {
   "cell_type": "markdown",
   "metadata": {},
   "source": [
    "On peut visualiser les corrélations entre les divers features par une heatmap."
   ]
  },
  {
   "cell_type": "markdown",
   "metadata": {},
   "source": [
    "<img src = 'event_day_heatmap.png' style = 'height:500px'>"
   ]
  },
  {
   "cell_type": "markdown",
   "metadata": {},
   "source": [
    "On remarque que les corrélations entre features sont assez évidentes. Ce constat nous amène à devoir chercher d'autres features.\n",
    "\n",
    "On peut obtenir les mêmes catégories de graphique en ciblant par utilisateur ou par objet."
   ]
  },
  {
   "cell_type": "markdown",
   "metadata": {},
   "source": [
    "## Conclusion sur ces visualisations\n",
    "<br/>\n",
    "\n",
    "Notre étude nous invite à créer des features temporelles (horodatage, temps peak-to-peak) pour nourrir un dataset plutôt limité en informations. <br>\n",
    "\n",
    "La description des saisonnalités est une première approche de l'analyse par série temporelle. <br>\n",
    "\n",
    "La répartition des évènements incite à mettre l'accent sur les taux de conversion. L'optimisation de ces taux est un enjeu majeur d'une plateforme e-commerce.\n"
   ]
  },
  {
   "cell_type": "markdown",
   "metadata": {},
   "source": [
    "<br/>\n",
    "\n",
    "# MODELISATION PAR MACHINE LEARNING"
   ]
  },
  {
   "cell_type": "markdown",
   "metadata": {},
   "source": [
    "## Introduction au Machine Learning\n",
    "<br />\n",
    "<br />\n",
    "Les problématiques abordées ont été les suivantes:\n",
    "\n",
    "- peut-on prédire le nombre d'achats futurs ?\n",
    "\n",
    "- peut-on estimer le taux de conversion d'un objet ?\n",
    "\n",
    "- peut-on prédire l'achat d'un objet par un utilisateur ? \n",
    "\n",
    "- peut-on segmenter les utilisateurs ?\n",
    "\n",
    "- peut-on établir un système de recommendation des produits ?\n",
    "\n",
    "<br />\n",
    "Ces problématiques font recours respectivement aux domaines de modélisation suivants:\n",
    "\n",
    "- série temporelle\n",
    "\n",
    "- régression\n",
    "\n",
    "- classification\n",
    "\n",
    "- clustering\n",
    "\n",
    "- règle d'association"
   ]
  },
  {
   "cell_type": "markdown",
   "metadata": {},
   "source": [
    "### Série temporelle\n"
   ]
  },
  {
   "cell_type": "markdown",
   "metadata": {},
   "source": [
    "Trois séries temporelles donnant respectivement le nombre de vues, de mises au panier et de transaction par jour ont été étudiées. <br> Dans une perspective métier, la série temporelle des transactions est cependant la plus pertinente et sera la seule mentionnée ici. \n",
    "- La prédiction des ventes permet d’ajuster en temps réel les stocks pour répondre à la demande.\n",
    "- Elle sert la stratégie commerciale et marketing.\n",
    "- Enfin, la prédiction des ventes sert de référence pour une évaluation a posteriori: des ventes réelles inférieures aux prévisions peuvent constituer une alerte."
   ]
  },
  {
   "cell_type": "markdown",
   "metadata": {},
   "source": [
    "Le modèle de prédiction choisie est la méthode SARIMA. On choisit un modèle multiplicatif et une saisonnalité de 7 pour éliminer les variations hebdomadaires."
   ]
  },
  {
   "cell_type": "markdown",
   "metadata": {},
   "source": [
    "L'estimation des paramètres conduit à privilégier un modèle SARIMA(1,1,1)(1,1,0,7)."
   ]
  },
  {
   "cell_type": "markdown",
   "metadata": {},
   "source": [
    "<img src = 'time_series_transaction.png' style = 'height:500px'>"
   ]
  },
  {
   "cell_type": "markdown",
   "metadata": {},
   "source": [
    "Erreur relative: 0.010192047954345503 <br>\n",
    "Ecart absolu moyen: 38.44196262404545 <br>\n",
    "Ecart quadratique moyen: 51.811326582418296 <br> <br>\n",
    "Le nombre de transactions avoisinant les 150 par jour, l'écart absolu moyen est correct. La présence de pics indésirables augmente l'écart quadratique moyen. <br>\n",
    "Le modèle sur-évalue très légèrement les valeurs exactes."
   ]
  },
  {
   "cell_type": "markdown",
   "metadata": {
    "tags": []
   },
   "source": [
    "### Régression"
   ]
  },
  {
   "cell_type": "markdown",
   "metadata": {},
   "source": [
    "La variable cible est le taux de conversion, à savoir le nombre de transactions divisé par le nombre de vues. <br>\n",
    "Pour prendre en compte les features temporels, on ne s'intéresse qu'à un produit et on construit des taux de conversion glissant."
   ]
  },
  {
   "cell_type": "markdown",
   "metadata": {},
   "source": [
    "Les features qui serviront au problème de classification sont les features temporels, les taux autres que la variable cible, ainsi que le nombre d'évènement par type sur une fenêtre glissante."
   ]
  },
  {
   "cell_type": "markdown",
   "metadata": {},
   "source": [
    "Quatre modèles de régression ont été utilisés: la régression linéaire, Lasso, Ridge et ElasticNet. <br>\n",
    "On mesure les écarts par l'erreur quadratique moyenne (RMSE) et l'erreur absolue moyenne (AMSE)"
   ]
  },
  {
   "cell_type": "markdown",
   "metadata": {},
   "source": [
    "<b>Régression Linéaire</b> <br>\n",
    "Score: 0.9913713545181261 <br>\n",
    "RMSE: 0.007721214895725545 <br>\n",
    "AMSE: 0.004422777934411853 <br>"
   ]
  },
  {
   "cell_type": "markdown",
   "metadata": {},
   "source": [
    "<b>Lasso</b> <br>\n",
    "Le paramètre alpha choisi vaut: 0.001 <br>\n",
    "Score: 0.9881410099468632 <br>\n",
    "RMSE: 0.009051867315081702 <br>\n",
    "AMSE: 0.005013370832464129 <br>"
   ]
  },
  {
   "cell_type": "markdown",
   "metadata": {},
   "source": [
    "<b>Ridge</b> <br>\n",
    "Le paramètre alpha choisi vaut: 1.0 <br>\n",
    "Score: 0.9914157433905187  <br>\n",
    "RMSE: 0.007701328926925473 <br>\n",
    "AMSE: 0.004339397504150746 <br>"
   ]
  },
  {
   "cell_type": "markdown",
   "metadata": {},
   "source": [
    "<b>ElasticNet</b> <br>\n",
    "L'optimisation des paramètres de ce modèle le rapproche du modèle Ridge, comme le montre le graphique suivant où la RMSE reste faible à ratio L1 faible.\n",
    "<img src = 'elasticnet.png' style = 'height:500px'>"
   ]
  },
  {
   "cell_type": "markdown",
   "metadata": {},
   "source": [
    "L'interprétation de ces modèles montre que seules quelques features sont utilisées. La variable cible est dépendante des features conceptuellement les plus proches d'elle, le ratio 'engagement_rate' et 'nbr_transaction_rolling_week'."
   ]
  },
  {
   "cell_type": "markdown",
   "metadata": {},
   "source": [
    "Ce problème de régression a son analogue en prenant le point de vue de l'utilisateur. Son utilisation métier étant moins pertinente, il ne sera pas détaillé dans ce rapport."
   ]
  },
  {
   "cell_type": "markdown",
   "metadata": {
    "tags": []
   },
   "source": [
    "### Classification"
   ]
  },
  {
   "cell_type": "markdown",
   "metadata": {},
   "source": [
    "On ne s'intéresse ici qu'à l'utilisateur le plus actif. <br>\n",
    "Pour chaque objet qu'il consulte, on indique s'il y aura transaction à la fin: c'est la variable cible."
   ]
  },
  {
   "cell_type": "markdown",
   "metadata": {},
   "source": [
    "En plus des features déjà mentionnés dans la section Régression, on introduit le feature <b>time peak_to_peak</b>."
   ]
  },
  {
   "cell_type": "markdown",
   "metadata": {},
   "source": [
    "Il y a un déséquilibre dans le jeu de données entre les objets achetés et non-acheté: le ratio est d'environ 1 pour 5 dans notre situation. Tous les modèles de classification ont été entrainés successivement sur l'échantillon original et sur un échantillon suréchantillonné pour vérifier leur robustesse."
   ]
  },
  {
   "cell_type": "markdown",
   "metadata": {},
   "source": [
    "Plusieurs modèles de classification ont été utilisés: la régression logistique, les forêts aléatoires, SVM, AdaBoost, Bagging, VotingClassifier, StackingClassifier et enfin XGBoost. <br>\n",
    "On mesure la qualité du modèle par l'accuracy et le F1 score de la classe minoritaire (objet acheté)."
   ]
  },
  {
   "cell_type": "markdown",
   "metadata": {},
   "source": [
    "Les modèles de régression logistique et SVM ont été écartés rapidement au profit de RandomForest. Une validation croisée sur le jeu de données suréchantilloné a donné le résultat suivant: <br>\n",
    "LogisticRegression: outer accuracy 67.82 +/- 1.30 <br>\n",
    "RF: outer accuracy 96.21 +/- 0.77 <br>\n",
    "SVM: outer accuracy 78.55 +/- 0.70 <br>\n",
    "Le modèle RandomForest dépasse de loin les autres modèles.\n"
   ]
  },
  {
   "cell_type": "markdown",
   "metadata": {},
   "source": [
    "<b>Forêts aléatoires</b> <br>\n",
    "Accuracy: 0.9406 <br>\n",
    "F1 score: 0.82 <br>\n",
    "Accuracy (suréchantillonné): 0.9406 <br>\n",
    "F1 Score (suréchantillonné): 0.76 <br>"
   ]
  },
  {
   "cell_type": "markdown",
   "metadata": {},
   "source": [
    "<b>AdaBoost</b> <br>\n",
    "Accuracy: 0.9206 <br>\n",
    "F1 score: 0.77 <br>\n",
    "Accuracy (suréchantillonné): 0.9345 <br>\n",
    "F1 Score (suréchantillonné): 0.79 <br>"
   ]
  },
  {
   "cell_type": "markdown",
   "metadata": {},
   "source": [
    "<b>Bagging</b> <br>\n",
    "Accuracy: 0.9238 <br>\n",
    "F1 score: 0.75 <br>\n",
    "Accuracy (suréchantillonné): 0.9462 <br>\n",
    "F1 Score (suréchantillonné): 0.79 <br>"
   ]
  },
  {
   "cell_type": "markdown",
   "metadata": {},
   "source": [
    "<b>Voting (avec RandomForest, SVM, RegressionLogistic)</b> <br>\n",
    "Accuracy: 0.8538 <br>\n",
    "F1 score: 0.16 <br>\n",
    "Accuracy (suréchantillonné): 0.6712 <br>\n",
    "F1 Score (suréchantillonné): 0.47 <br>"
   ]
  },
  {
   "cell_type": "markdown",
   "metadata": {},
   "source": [
    "<b>Stacking (avec RandomForest, SVM, RegressionLogistic; classifieur final: Random Forest)</b> <br>\n",
    "Accuracy: 0.9467 <br>\n",
    "F1 score: 0.83 <br>\n",
    "Accuracy (suréchantillonné): 0.9132 <br>\n",
    "F1 Score (suréchantillonné): 0.65 <br>"
   ]
  },
  {
   "cell_type": "markdown",
   "metadata": {},
   "source": [
    "<b>XGBoost</b> <br>\n",
    "F1 score: 0.80 <br>\n",
    "F1 Score (suréchantillonné): 0.82 <br>"
   ]
  },
  {
   "cell_type": "markdown",
   "metadata": {},
   "source": [
    "Les modèles d'ensemble avec votes sont pénalisés par l'utilisation de votants peu performants. <br>\n",
    "Les autres modèles sont performants. On pourra préférer une méthode d'ensemble comme AdaBoost plutôt que RandomForest pour limiter le sur-apprentissage. <br>\n",
    "\n",
    "L'interprétation des modèles montre que la feature peaktopeak est primordial pour obtenir ces performances.\n",
    "<img src = 'xgb_feature.png' width=\"520\" height=\"300px\">"
   ]
  },
  {
   "cell_type": "markdown",
   "metadata": {},
   "source": [
    "Ce problème de classification a son analogue en prenant le point de vue de l'objet. Son utilisation métier étant moins pertinente, il ne sera pas détaillé dans ce rapport."
   ]
  },
  {
   "cell_type": "markdown",
   "metadata": {},
   "source": [
    "### Règles d'association"
   ]
  },
  {
   "cell_type": "markdown",
   "metadata": {},
   "source": [
    "Après avoir sélectionné les paniers avec plus de deux éléments, on utilise l'algorithme APriori de la librairie mlxtend pour obtenir les ensembles d'items les plus fréquents. <br>\n",
    "On peut en déduire des règles d'association:"
   ]
  },
  {
   "cell_type": "markdown",
   "metadata": {},
   "source": [
    "|    | antecedents         | consequents         |   antecedent support |   consequent support |    support |   confidence |    lift |   leverage |   conviction |\n",
    "|---:|:--------------------|:--------------------|---------------------:|---------------------:|-----------:|-------------:|--------:|-----------:|-------------:|\n",
    "|  0 | frozenset({146642}) | frozenset({10572})  |           0.00112655 |           0.00638378 | 0.00112655 |     1        | 156.647 | 0.00111936 |    inf       |\n",
    "|  1 | frozenset({10572})  | frozenset({146642}) |           0.00638378 |           0.00112655 | 0.00112655 |     0.176471 | 156.647 | 0.00111936 |      1.21292 |\n",
    "|  2 | frozenset({10572})  | frozenset({333039}) |           0.00638378 |           0.00112655 | 0.00112655 |     0.176471 | 156.647 | 0.00111936 |      1.21292 |\n",
    "|  3 | frozenset({333039}) | frozenset({10572})  |           0.00112655 |           0.00638378 | 0.00112655 |     1        | 156.647 | 0.00111936 |    inf       |\n",
    "|  4 | frozenset({10572})  | frozenset({341869}) |           0.00638378 |           0.00112655 | 0.00112655 |     0.176471 | 156.647 | 0.00111936 |      1.21292 |"
   ]
  },
  {
   "cell_type": "markdown",
   "metadata": {},
   "source": [
    "Les règles les plus pertinentes sont celles disposant d'un lift élevé. <br>\n",
    "\n",
    "Ce tableau permet d'écrire un système de recommandation: à un objet donné (antecedents), on associera un ensemble d'objets (consequents) de telle sorte que le lift soit maximal."
   ]
  },
  {
   "cell_type": "markdown",
   "metadata": {},
   "source": [
    "### Clustering"
   ]
  },
  {
   "cell_type": "markdown",
   "metadata": {},
   "source": [
    "La segmentation des clients est un besoin métier majeur. Elle permet d'adapter une stratégie commerciale en fonction du client. <br>\n",
    "\n",
    "A l'aide des feature temporelles, du peak-to-peak et du nombre d'évènements par type, on souhaite regrouper les utilisateurs au sein de clusters.<br>\n",
    "\n",
    "Les algorithmes de clustering utilisés sont KMeans et AgglomerativeClustering."
   ]
  },
  {
   "cell_type": "markdown",
   "metadata": {},
   "source": [
    "Pour déterminer le nombre de cluster optimal pour KMeans, diverses méthodes sont utilisées. <br>\n",
    " -la méthode du coude consiste à calculer la distorsion ou l'inertie et à chercher le point de coude. <br>\n",
    " -la méthode de la silhouette consiste à maximiser le coefficient de silhouette.<br>\n",
    " -la méthode de Calinski-Harabasz consiste à maximiser le coefficient de Calinski-Harabasz. <br>\n",
    " Toutes ces méthodes nous permettent d'estimer le nombre optimal de clusters àclusters 4."
   ]
  },
  {
   "cell_type": "markdown",
   "metadata": {},
   "source": [
    "<img src = 'distorsion_kmeans.png' height=\"500px\">"
   ]
  },
  {
   "cell_type": "markdown",
   "metadata": {},
   "source": [
    "<img src = 'inertie_kmeans.png' height=\"500px\">"
   ]
  },
  {
   "cell_type": "markdown",
   "metadata": {},
   "source": [
    "<img src = 'silhouette_kmeans.png' height=\"500px\">"
   ]
  },
  {
   "cell_type": "markdown",
   "metadata": {},
   "source": [
    "<img src = 'ch_kmeans.png' height=\"500px\">"
   ]
  },
  {
   "cell_type": "markdown",
   "metadata": {},
   "source": [
    "Pour l'AgglomerativeClustering, on peut visualiser le clustering par un dendrogramme. \n",
    "<img src = 'dendrograms.png' height=\"500px\">\n",
    "\n",
    "Le nombre de cluster optimal semble être 4 ou 5. <br>\n",
    "\n",
    "Les méthodes de la silhouette et de Calinski-Harabaszdonne 5 clusters pour l'optimalité. <br>\n",
    "\n",
    "En choisissant 5 clusters, il est possible de tester la correspondance entre KMeans et AgglomerativeClustering. <br>\n",
    "Un tableau croisé montre que la correspondance est plutôt satisfaisante. <br>\n",
    "Le modèle KMeans étant plus économe en temps et en mémoire, il est donc à privilégier."
   ]
  },
  {
   "cell_type": "markdown",
   "metadata": {
    "jp-MarkdownHeadingCollapsed": true,
    "tags": []
   },
   "source": [
    "## Conclusion sur le Machine Learning\n",
    "<br/>\n",
    "La plupart des problématiques abordées ont trouvé des réponses satisfaisantes, malgré un jeu de donnée limité en feature. <br>\n",
    "La solution apportée sur le problème de régression est en revanche peu qualitative, puisque elle s'appuie sur des features difficiles à déployer en contexte réel. <br>\n",
    "L'extraction de la feature \"time peak-to-peak\" a été une avancée pour améliorer les performances des modèles de classification.\n"
   ]
  },
  {
   "cell_type": "markdown",
   "metadata": {},
   "source": [
    "## Piste à explorer\n",
    "\n",
    "- Les catégories d'objets n'ont pas eu d'utilité dans la modélisation. Il semble possible d'en extraire des features pertinents. <br>\n",
    "- L'analyse statistique des clusters permettrait de favoriser l'interprétabilité du modèle. <br>\n",
    "- Il est possible de pousser davantage l'analyse de l'entonnoir de vente. <br>"
   ]
  }
 ],
 "metadata": {
  "hide_input": false,
  "kernelspec": {
   "display_name": "Python 3 (ipykernel)",
   "language": "python",
   "name": "python3"
  },
  "language_info": {
   "codemirror_mode": {
    "name": "ipython",
    "version": 3
   },
   "file_extension": ".py",
   "mimetype": "text/x-python",
   "name": "python",
   "nbconvert_exporter": "python",
   "pygments_lexer": "ipython3",
   "version": "3.8.12"
  },
  "nbTranslate": {
   "displayLangs": [],
   "hotkey": "alt-t",
   "langInMainMenu": true,
   "sourceLang": "fr",
   "targetLang": "en",
   "useGoogleTranslate": true
  }
 },
 "nbformat": 4,
 "nbformat_minor": 4
}
